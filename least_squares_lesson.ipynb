{
 "cells": [
  {
   "cell_type": "markdown",
   "metadata": {},
   "source": [
    "# Introduction to Least Squares Fitting with Flight Data\n",
    "\n",
    "In this notebook, we will explore the **least squares method** by applying it to a dataset containing information about flight prices and durations. Least squares is a fundamental technique in regression analysis that helps us find the best-fitting line through a set of data points by minimising the sum of the squared differences between observed values and the values predicted by the model.\n",
    "\n",
    "### Objective\n",
    "We aim to model the relationship between flight prices and durations. By applying the least squares method, we can estimate how flight duration affects prices and predict future prices based on the observed data.\n",
    "\n",
    "### Dataset Overview\n",
    "The dataset contains the following key features:\n",
    "- **Flight Price**: The cost of a flight ticket in GBP.\n",
    "- **Flight Duration**: The total time of the flight in hours.\n",
    "\n",
    "By the end of this notebook, you will:\n",
    "- Understand how the least squares method works.\n",
    "- Visualise the relationship between flight prices and durations.\n",
    "- Implement a simple linear regression model using the least squares approach.\n",
    "\n",
    "Let’s begin by loading the data and exploring the relationship between these variables."
   ]
  },
  {
   "cell_type": "code",
   "execution_count": null,
   "metadata": {},
   "outputs": [],
   "source": [
    "#Load relevant python modules\n",
    "import pandas as pd #for reading in and processing data\n",
    "import numpy as np #for handling arrays, i.e. vector and matrix operations\n",
    "import matplotlib.pyplot as plt #for plotting\n",
    "#Set style for plots\n",
    "plt.style.use('ggplot')\n",
    "import least_squares_utils as lsu #utility functions for least squares analysis and plotting"
   ]
  },
  {
   "cell_type": "code",
   "execution_count": null,
   "metadata": {},
   "outputs": [],
   "source": [
    "#Load the data\n",
    "flights_econ = \"./basic_economy_fares.csv\"\n",
    "basic_economy_df = pd.read_csv(flights_econ)\n",
    "\n",
    "#Inspect the first 10 rows\n",
    "print(basic_economy_df[:11])"
   ]
  },
  {
   "cell_type": "code",
   "execution_count": null,
   "metadata": {},
   "outputs": [],
   "source": [
    "# Set the style for the plot and create a figure and axis object\n",
    "fig, ax = plt.subplots(figsize=(7.0, 5.5))\n",
    "\n",
    "#Plot the data\n",
    "lsu.plot_flights_scatter_data(basic_economy_df, ax)\n",
    "\n",
    "plt.show()"
   ]
  },
  {
   "cell_type": "markdown",
   "metadata": {},
   "source": [
    "### Finding the Line of Best Fit\n",
    "\n",
    "To model the relationship between flight duration and price, we aim to find a line that best fits the data. This line will allow us to predict future flight prices based on the duration of the flight.\n",
    "\n",
    "The equation of a line is typically written as:\n",
    "\n",
    "\\[\n",
    "y = mx + c\n",
    "\\]\n",
    "\n",
    "where:\n",
    "- **m** represents the slope of the line, indicating how much the flight price (y) changes for each additional hour of flight duration (x).\n",
    "- **c** is the y-intercept, which is the price when the flight duration is zero, i.e. the fixed costs per passenger.\n",
    "\n",
    "One way to approach this is to visually estimate the line by eye, trying to guess both the slope (m) and the intercept (c).\n",
    "\n",
    "Take a moment to consider: What would your best estimate be for these parameters based on the data points? How well do you think your line would predict future prices?\n"
   ]
  },
  {
   "cell_type": "code",
   "execution_count": null,
   "metadata": {},
   "outputs": [],
   "source": [
    "# Set the style for the plot and create a figure and axis object\n",
    "fig, ax = plt.subplots(figsize=(7.0, 5.5))\n",
    "\n",
    "#Plot the flights data\n",
    "lsu.plot_flights_scatter_data(basic_economy_df, ax)\n",
    "\n",
    "# Guess the best fit parameters\n",
    "intercept = FIXME\n",
    "slope = FIXME\n",
    "\n",
    "check_error = False\n",
    "\n",
    "total_error = lsu.plot_best_fit_line(basic_economy_df, ax, slope=slope, intercept=intercept, \n",
    "                                 error_check=check_error, show_error_on_plot=check_error)\n"
   ]
  },
  {
   "cell_type": "code",
   "execution_count": null,
   "metadata": {},
   "outputs": [],
   "source": [
    "# Create the initial scatter plot\n",
    "fig, ax = plt.subplots(figsize=(10, 6))\n",
    "lsu.plot_flights_scatter_data(basic_economy_df, ax)\n",
    "\n",
    "# Plot the least squares line of best fit and print the equation on the plot\n",
    "lsu.plot_least_squares_fit(basic_economy_df, ax)\n",
    "\n",
    "# Show the final plot\n",
    "plt.show()"
   ]
  }
 ],
 "metadata": {
  "kernelspec": {
   "display_name": "20180130",
   "language": "python",
   "name": "python3"
  },
  "language_info": {
   "codemirror_mode": {
    "name": "ipython",
    "version": 3
   },
   "file_extension": ".py",
   "mimetype": "text/x-python",
   "name": "python",
   "nbconvert_exporter": "python",
   "pygments_lexer": "ipython3",
   "version": "3.6.4"
  }
 },
 "nbformat": 4,
 "nbformat_minor": 2
}
